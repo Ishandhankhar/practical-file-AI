{
 "cells": [
  {
   "cell_type": "markdown",
   "id": "240955dd",
   "metadata": {},
   "source": [
    "# PROGRAM - 1\n",
    "## AIM: Write a python program which accept the radius of a circle from the user and compute the area."
   ]
  },
  {
   "cell_type": "code",
   "execution_count": 2,
   "id": "60f73794",
   "metadata": {},
   "outputs": [
    {
     "name": "stdout",
     "output_type": "stream",
     "text": [
      "Enter radius:2\n",
      "Area of circle with radius 2 = 12.56\n"
     ]
    }
   ],
   "source": [
    "x= int(input(\"Enter radius:\"))\n",
    "\n",
    "area = lambda r: 3.14*(r**2)\n",
    "\n",
    "print(f\"Area of circle with radius {x} = {area(x)}\")"
   ]
  },
  {
   "cell_type": "markdown",
   "id": "a6c5fdcd",
   "metadata": {},
   "source": [
    "# PROGRAM - 2\n",
    "## AIM: Program to find the biggest of three numbers."
   ]
  },
  {
   "cell_type": "code",
   "execution_count": 3,
   "id": "c46dd187",
   "metadata": {},
   "outputs": [
    {
     "name": "stdout",
     "output_type": "stream",
     "text": [
      "Enter three numbers, separated by space:4 3 56\n",
      " Maximum of three numbers is : 56\n"
     ]
    }
   ],
   "source": [
    "numbers = input(\"Enter three numbers, separated by space:\").split(' ')\n",
    "integer = list(map(int, numbers)) \n",
    "print(f' Maximum of three numbers is : {max(integer)}')"
   ]
  },
  {
   "cell_type": "markdown",
   "id": "ceee9d89",
   "metadata": {},
   "source": [
    "# PROGRAM - 3\n",
    "## AIM: Write a python program to clone or copy a list."
   ]
  },
  {
   "cell_type": "code",
   "execution_count": 4,
   "id": "e6ae30f2",
   "metadata": {},
   "outputs": [
    {
     "name": "stdout",
     "output_type": "stream",
     "text": [
      "Enter the elements of list, separated by space:Ishan Dhankhar - 50\n"
     ]
    },
    {
     "data": {
      "text/plain": [
       "['Ishan', 'Dhankhar', '-', '50']"
      ]
     },
     "execution_count": 4,
     "metadata": {},
     "output_type": "execute_result"
    }
   ],
   "source": [
    "lst = input(\"Enter the elements of list, separated by space:\").split()\n",
    "lst"
   ]
  },
  {
   "cell_type": "code",
   "execution_count": 5,
   "id": "5e462b78",
   "metadata": {},
   "outputs": [
    {
     "data": {
      "text/plain": [
       "['Ishan', 'Dhankhar', '-', '50']"
      ]
     },
     "execution_count": 5,
     "metadata": {},
     "output_type": "execute_result"
    }
   ],
   "source": [
    "copy = lst.copy()\n",
    "copy"
   ]
  },
  {
   "cell_type": "code",
   "execution_count": 6,
   "id": "1038b2a0",
   "metadata": {},
   "outputs": [
    {
     "data": {
      "text/plain": [
       "['50', '-', 'Dhankhar', 'Ishan']"
      ]
     },
     "execution_count": 6,
     "metadata": {},
     "output_type": "execute_result"
    }
   ],
   "source": [
    "#Updation in copy list:\n",
    "copy.reverse()\n",
    "copy"
   ]
  },
  {
   "cell_type": "code",
   "execution_count": 7,
   "id": "d53fc5ff",
   "metadata": {},
   "outputs": [
    {
     "data": {
      "text/plain": [
       "['Ishan', 'Dhankhar', '-', '50']"
      ]
     },
     "execution_count": 7,
     "metadata": {},
     "output_type": "execute_result"
    }
   ],
   "source": [
    "#Printing original list, We'll see that there's no updation in original list.\n",
    "lst"
   ]
  },
  {
   "cell_type": "markdown",
   "id": "cc228d6d",
   "metadata": {},
   "source": [
    "# PROGRAM - 4\n",
    "## AIM: Python Program to Reverse a Given Number and compare it to the original number."
   ]
  },
  {
   "cell_type": "code",
   "execution_count": 8,
   "id": "ffe5755b",
   "metadata": {},
   "outputs": [
    {
     "name": "stdout",
     "output_type": "stream",
     "text": [
      "Enter a number:12345\n",
      "Number = 12345\n",
      "Reverse = 54321\n"
     ]
    }
   ],
   "source": [
    "number = input(\"Enter a number:\")\n",
    "\n",
    "rev = lambda a: a[::-1]\n",
    "result = rev(number)\n",
    "\n",
    "print(f\"Number = {int(number)}\")\n",
    "print(f\"Reverse = {int(result)}\")"
   ]
  },
  {
   "cell_type": "markdown",
   "id": "414263c0",
   "metadata": {},
   "source": [
    "# PROGRAM - 5\n",
    "## AIM: Python Program to Read a Number n and Print the Natural Numbers."
   ]
  },
  {
   "cell_type": "code",
   "execution_count": 9,
   "id": "433770e4",
   "metadata": {},
   "outputs": [
    {
     "name": "stdout",
     "output_type": "stream",
     "text": [
      "Enter a number:15\n",
      "Natural numbers: 1,2,3,4,5,6,7,8,9,10,11,12,13,14,15\n"
     ]
    }
   ],
   "source": [
    "n = int(input(\"Enter a number:\"))\n",
    "\n",
    "natural_numbers = [str(i) for i in range(1,n+1)]\n",
    "\n",
    "join = ','.join(natural_numbers)\n",
    "print('Natural numbers:', join)"
   ]
  },
  {
   "cell_type": "markdown",
   "id": "90e8ca2b",
   "metadata": {},
   "source": [
    "# PROGRAM - 6\n",
    "## AIM: Python Program to Determine all Pythagorean Triplets in the Range"
   ]
  },
  {
   "cell_type": "code",
   "execution_count": 10,
   "id": "90f2fb59",
   "metadata": {},
   "outputs": [
    {
     "name": "stdout",
     "output_type": "stream",
     "text": [
      "Enter a number:15\n",
      "The upper limit is : 15\n",
      "The Pythagorean triplets are :\n",
      "3 4 5\n",
      "8 6 10\n",
      "5 12 13\n"
     ]
    }
   ],
   "source": [
    "def pythagorean_triplets(limits) :\n",
    "   c, m = 0, 2\n",
    "   while c < limits :\n",
    "       for n in range(1, m) :\n",
    "          a = m * m - n * n\n",
    "          b = 2 * m * n\n",
    "          c = m * m + n * n\n",
    "          if c > limits :\n",
    "             break\n",
    "          print(a, b, c)\n",
    "       m = m + 1\n",
    "    \n",
    "upper_limit = int(input(\"Enter a number:\"))\n",
    "print(\"The upper limit is :\", upper_limit)\n",
    "\n",
    "print(\"The Pythagorean triplets are :\")\n",
    "pythagorean_triplets(upper_limit)"
   ]
  },
  {
   "cell_type": "markdown",
   "id": "984b4942",
   "metadata": {},
   "source": [
    "# PROGRAM - 7\n",
    "## AIM: Python Program to Check if a Number is an Armstrong Number"
   ]
  },
  {
   "cell_type": "code",
   "execution_count": 12,
   "id": "ee1f6b56",
   "metadata": {},
   "outputs": [
    {
     "name": "stdout",
     "output_type": "stream",
     "text": [
      "Enter a number:153\n",
      "Sum of cubes of digits:153\n",
      "\n",
      "Therefore, 153 is an Armstrong number.\n"
     ]
    }
   ],
   "source": [
    "num = int(input(\"Enter a number:\"))\n",
    "\n",
    "s = 0\n",
    "for i in str(num):\n",
    "    s+=int(i)**3\n",
    "\n",
    "print(f'Sum of cubes of digits:{s}')\n",
    "\n",
    "if s==num:\n",
    "    print(f\"\\nTherefore, {num} is an Armstrong number.\")\n",
    "else:\n",
    "    print(f\"\\nTherefore, {num} is not an Armstrong number.\")"
   ]
  },
  {
   "cell_type": "markdown",
   "id": "9eac22a6",
   "metadata": {},
   "source": [
    "# PROGRAM - 8\n",
    "## AIM: Python Program to Remove Vowels and Punctuation from String"
   ]
  },
  {
   "cell_type": "code",
   "execution_count": 1,
   "id": "851347b3",
   "metadata": {},
   "outputs": [
    {
     "name": "stdout",
     "output_type": "stream",
     "text": [
      "Enter a string:@@my name - is ishan! $dhankhar\n"
     ]
    }
   ],
   "source": [
    "string = input(\"Enter a string:\")\n",
    "\n",
    "punctuations = '''!()-[]{};:'\"\\,<>./?@#$%^&*_~'''\n",
    "vowels = 'aeiouAEIOU'\n",
    "\n",
    "without_vowels_and_punc = [x for x in string if x not in vowels + punctuations]\n",
    "without_vowels_and_punc = ''.join(without_vowels_and_punc)"
   ]
  },
  {
   "cell_type": "code",
   "execution_count": 2,
   "id": "956eafbb",
   "metadata": {},
   "outputs": [
    {
     "name": "stdout",
     "output_type": "stream",
     "text": [
      "my nm  s shn dhnkhr\n"
     ]
    }
   ],
   "source": [
    "print(without_vowels_and_punc)"
   ]
  },
  {
   "cell_type": "markdown",
   "id": "70e6aeb3",
   "metadata": {},
   "source": [
    "# PROGRAM - 9\n",
    "## AIM: Python program to count the number of strings where the string length is 2 or more and the first and last character are same from a given list of strings."
   ]
  },
  {
   "cell_type": "code",
   "execution_count": 6,
   "id": "7100f211",
   "metadata": {},
   "outputs": [
    {
     "data": {
      "text/plain": [
       "2"
      ]
     },
     "execution_count": 6,
     "metadata": {},
     "output_type": "execute_result"
    }
   ],
   "source": [
    "def counter(lst):\n",
    "    count = 0\n",
    "    \n",
    "    for item in lst:\n",
    "        if len(item)>=2 and (item[0]==item[-1]):\n",
    "            count+=1\n",
    "    return count\n",
    "\n",
    "counter(['abc','xyz','aba','ishnai'])"
   ]
  },
  {
   "cell_type": "markdown",
   "id": "87b8d42f",
   "metadata": {},
   "source": [
    "# PROGRAM - 10\n",
    "## AIM: Python program to read a list, sorted in increasing order by the last element in each tuple from a given list of non-empty tuples."
   ]
  },
  {
   "cell_type": "code",
   "execution_count": 7,
   "id": "a426da4c",
   "metadata": {},
   "outputs": [
    {
     "data": {
      "text/plain": [
       "[(1, 1), (1, 2), (2, 3), (1, 4), (4, 5)]"
      ]
     },
     "execution_count": 7,
     "metadata": {},
     "output_type": "execute_result"
    }
   ],
   "source": [
    "lst = [(1,2),(1,1),(2,3),(4,5),(1,4)]\n",
    "\n",
    "lst.sort(key = lambda x: x[-1])\n",
    "\n",
    "lst"
   ]
  },
  {
   "cell_type": "markdown",
   "id": "813b1993",
   "metadata": {},
   "source": [
    "# PROGRAM - 11\n",
    "## AIM: Python program to generate and print a list of first and last 5 elements where the values are square of numbers between a range."
   ]
  },
  {
   "cell_type": "code",
   "execution_count": 9,
   "id": "eb263b5c",
   "metadata": {},
   "outputs": [
    {
     "name": "stdout",
     "output_type": "stream",
     "text": [
      "Original List:[1, 4, 9, 16, 25, 36, 49, 64, 81, 100, 121, 144, 169, 196, 225, 256, 289, 324, 361, 400, 441, 484, 529, 576, 625, 676, 729, 784, 841, 900, 961, 1024, 1089, 1156, 1225, 1296, 1369, 1444, 1521, 1600, 1681, 1764, 1849, 1936, 2025, 2116, 2209, 2304, 2401]\n",
      "First 5 element's square:[1, 4, 9, 16, 25]\n",
      "Last 5 element's square:[2025, 2116, 2209, 2304, 2401]\n"
     ]
    }
   ],
   "source": [
    "def sq():\n",
    "    lst = []\n",
    "    \n",
    "    for i in range(1,50):\n",
    "        lst.append(i**2)\n",
    "    \n",
    "    print(f'Original List:{lst}')\n",
    "    print(f'First 5 element\\'s square:{lst[:5]}')\n",
    "    print(f'Last 5 element\\'s square:{lst[-5:]}')\n",
    "\n",
    "sq()"
   ]
  },
  {
   "cell_type": "markdown",
   "id": "10b5233d",
   "metadata": {},
   "source": [
    "# PROGRAM - 12\n",
    "## AIM: WAP to execute these pyramid.\n",
    "## a)\n",
    "1\n",
    "\n",
    "1 2\n",
    "\n",
    "1 2 3\n",
    "\n",
    "1 2 3 4\n",
    "\n",
    "\n",
    "\n"
   ]
  },
  {
   "cell_type": "code",
   "execution_count": 18,
   "id": "159724d3",
   "metadata": {},
   "outputs": [
    {
     "name": "stdout",
     "output_type": "stream",
     "text": [
      "1\r\n",
      "12\r\n",
      "123\r\n",
      "1234\r\n"
     ]
    }
   ],
   "source": [
    "n = 5\n",
    "\n",
    "for i in range(1,n):\n",
    "    for j in range(1,i+1):\n",
    "        print(j, end = '')\n",
    "    print('\\r')"
   ]
  },
  {
   "cell_type": "markdown",
   "id": "b0556690",
   "metadata": {},
   "source": [
    "## b)\n",
    "1\n",
    "\n",
    "22\n",
    "\n",
    "333\n",
    "\n",
    "4444\n",
    "\n",
    "\n",
    "\n"
   ]
  },
  {
   "cell_type": "code",
   "execution_count": 19,
   "id": "0edea3a0",
   "metadata": {},
   "outputs": [
    {
     "name": "stdout",
     "output_type": "stream",
     "text": [
      "1\r\n",
      "22\r\n",
      "333\r\n",
      "4444\r\n"
     ]
    }
   ],
   "source": [
    "n = 5\n",
    "\n",
    "for i in range(1,n):\n",
    "    for j in range(1,i+1):\n",
    "        print(i, end = '')\n",
    "    print('\\r')"
   ]
  },
  {
   "cell_type": "markdown",
   "id": "8a357dc3",
   "metadata": {},
   "source": [
    "## c)\n",
    "1\n",
    "\n",
    "2 3\n",
    "\n",
    "4 5 6\n",
    "\n",
    "7 8 9 10\n",
    "\n",
    "\n"
   ]
  },
  {
   "cell_type": "code",
   "execution_count": 25,
   "id": "7046320a",
   "metadata": {},
   "outputs": [
    {
     "name": "stdout",
     "output_type": "stream",
     "text": [
      "\r\n",
      "1 \r\n",
      "2 3 \r\n",
      "4 5 6 \r\n",
      "7 8 9 10 \r\n"
     ]
    }
   ],
   "source": [
    "n = 1\n",
    "\n",
    "for i in range(5):\n",
    "    for j in range(1,i+1):\n",
    "        print(n, end = ' ')\n",
    "        n+=1\n",
    "    print('\\r')"
   ]
  },
  {
   "cell_type": "markdown",
   "id": "fad927cb",
   "metadata": {},
   "source": [
    "\n",
    "## d)\n",
    "1\n",
    "\n",
    "2 4\n",
    "\n",
    "3 6 9\n",
    "\n",
    "4 8 12 16\n",
    "\n",
    "5 10 15 20 25"
   ]
  },
  {
   "cell_type": "code",
   "execution_count": 30,
   "id": "3870d3e1",
   "metadata": {},
   "outputs": [
    {
     "name": "stdout",
     "output_type": "stream",
     "text": [
      "1 \n",
      "2 4 \n",
      "3 6 9 \n",
      "4 8 12 16 \n",
      "5 10 15 20 25 \n"
     ]
    }
   ],
   "source": [
    "rows = 5\n",
    "\n",
    "for i in range(1, rows + 1):\n",
    "    for j in range(1, i + 1):\n",
    "        # multiplication current column and row\n",
    "        print(i*j, end=' ')\n",
    "    print()"
   ]
  },
  {
   "cell_type": "markdown",
   "id": "4f5ed430",
   "metadata": {},
   "source": [
    "# PROGRAM - 13\n",
    "## AIM: WAP to get a single string from two given strings, separated by a space and swap the first two characters of each string also change a single to new string where first and last characters exchanged."
   ]
  },
  {
   "cell_type": "code",
   "execution_count": 8,
   "id": "f01f7af5",
   "metadata": {},
   "outputs": [
    {
     "name": "stdout",
     "output_type": "stream",
     "text": [
      "Enter string 1:Gurugram\n",
      "Enter string 2:University\n",
      "Both strings available.\n",
      " Therefore:\n",
      "Uurugram Gniversity\n"
     ]
    }
   ],
   "source": [
    "string1 = input(\"Enter string 1:\")\n",
    "string2 = input(\"Enter string 2:\")\n",
    "\n",
    "if (bool(string1) and bool(string2)) is True:\n",
    "    print(\"Both strings available.\\n Therefore:\")\n",
    "    string3 = string2[0] + string1[1:] + ' ' + string1[0] + string2[1:]\n",
    "    print(string3)\n",
    "\n",
    "else:\n",
    "    if (bool(string1) is True and bool(string2) is False):\n",
    "        s_len = len(string1)\n",
    "        string3 = string1[-1]+string1[1:s_len-1]+string1[0]\n",
    "        print(\"Only String 1 available.\\n Therefore:\")\n",
    "        print(string3)\n",
    "        \n",
    "    elif (bool(string2) is True and bool(string1) is False):\n",
    "        s_len = len(string2)\n",
    "        string3 = string2[-1]+string2[1:s_len-1]+string2[0]\n",
    "        print(\"Only String 2 available.\\n Therefore:\")\n",
    "        print(string3)"
   ]
  },
  {
   "cell_type": "markdown",
   "id": "c1f0efe0",
   "metadata": {},
   "source": [
    "# PROGRAM - 14\n",
    "## AIM: WAP to find the GCD of 2 numbers"
   ]
  },
  {
   "cell_type": "code",
   "execution_count": 12,
   "id": "10323171",
   "metadata": {},
   "outputs": [
    {
     "name": "stdout",
     "output_type": "stream",
     "text": [
      "Enter number 1:12\n",
      "Entner number 2:24\n",
      "Divisors of 12 and 24 = [1, 2, 3, 4, 6, 12]\n",
      "GCD of 12 and 24 = 12\n"
     ]
    }
   ],
   "source": [
    "num1 = int(input(\"Enter number 1:\"))\n",
    "num2 = int(input(\"Entner number 2:\"))\n",
    "try:\n",
    "    if num1>num2:\n",
    "        higher = num1\n",
    "        lower = num2\n",
    "    else:\n",
    "        higher = num2\n",
    "        lower = num1\n",
    "\n",
    "    emp_lst = []\n",
    "    for num in range(1, higher+1):\n",
    "        if higher%num==0 and lower%num==0:\n",
    "            emp_lst.append(num)\n",
    "    print(f'Divisors of {num1} and {num2} = {emp_lst}')    \n",
    "    GCD = max(emp_lst)        \n",
    "    print(f\"GCD of {num1} and {num2} = {GCD}\")\n",
    "\n",
    "except Exception as e:\n",
    "    print(str(e))"
   ]
  },
  {
   "cell_type": "markdown",
   "id": "9c8a89e0",
   "metadata": {},
   "source": [
    "# PROGRAM - 15\n",
    "## AIM: WAP to find the factorial of a number"
   ]
  },
  {
   "cell_type": "code",
   "execution_count": 13,
   "id": "67cc0e40",
   "metadata": {},
   "outputs": [
    {
     "name": "stdout",
     "output_type": "stream",
     "text": [
      "Enter a number:5\n",
      "Factorial of 5 = 120\n"
     ]
    }
   ],
   "source": [
    "n = int(input(\"Enter a number:\"))\n",
    "i = 1\n",
    "fact = 1\n",
    "while(i<=n):\n",
    "    fact *= i\n",
    "    i+=1\n",
    "print(f'Factorial of {n} = {fact}')"
   ]
  },
  {
   "cell_type": "markdown",
   "id": "55b85ca8",
   "metadata": {},
   "source": [
    "# PROGRAM - 16\n",
    "## AIM: WAP to generate Fibonacci series of N terms"
   ]
  },
  {
   "cell_type": "code",
   "execution_count": 18,
   "id": "98fcb984",
   "metadata": {},
   "outputs": [
    {
     "name": "stdout",
     "output_type": "stream",
     "text": [
      "Enter a number:6\n",
      "Fibonacci series of 6 terms =  0 1 1 2 3 5 8 "
     ]
    }
   ],
   "source": [
    "def fibonacci(n):\n",
    "    a = 0\n",
    "    b = 1\n",
    "    sum = 0\n",
    "    print(f\"Fibonacci series of {n} terms = \", end = ' ')\n",
    "    for i in range(0,n+1):\n",
    "        \n",
    "        print(sum, end = ' ')\n",
    "        \n",
    "        a = b\n",
    "        b = sum\n",
    "        sum = a+b\n",
    "        \n",
    "n = int(input(\"Enter a number:\"))\n",
    "fibonacci(n)"
   ]
  },
  {
   "cell_type": "markdown",
   "id": "15b8c7ab",
   "metadata": {},
   "source": [
    "# PROGRAM - 17\n",
    "## AIM: WAP to count the number of vowels."
   ]
  },
  {
   "cell_type": "code",
   "execution_count": 19,
   "id": "caf0dabe",
   "metadata": {},
   "outputs": [
    {
     "name": "stdout",
     "output_type": "stream",
     "text": [
      "Enter a string:ishan dhankhar\n",
      "Number of vowels in our string = 4\n"
     ]
    }
   ],
   "source": [
    "string = input(\"Enter a string:\").lower()\n",
    "vowels = 'aeiou'\n",
    "count = 0\n",
    "for letter in string:\n",
    "    if letter in vowels:\n",
    "        count+=1\n",
    "print(f\"Number of vowels in our string = {count}\")"
   ]
  },
  {
   "cell_type": "markdown",
   "id": "ea4fc602",
   "metadata": {},
   "source": [
    "# PROGRAM - 18\n",
    "## AIM: WAP to remove the characters which have odd index values of a given string."
   ]
  },
  {
   "cell_type": "code",
   "execution_count": 21,
   "id": "cb62d0df",
   "metadata": {},
   "outputs": [
    {
     "name": "stdout",
     "output_type": "stream",
     "text": [
      "Enter a string:Ishan Dhankhar\n",
      "IhnDaka\n"
     ]
    }
   ],
   "source": [
    "string = [char for char in input(\"Enter a string:\")]\n",
    "\n",
    "lst = []\n",
    "for i in range(len(string)):\n",
    "    if i%2==0:\n",
    "        lst.append(string[i])\n",
    "print(''.join(lst))"
   ]
  },
  {
   "cell_type": "markdown",
   "id": "8b187764",
   "metadata": {},
   "source": [
    "# PROGRAM - 19\n",
    "## AIM: WAP TO remove duplicates from a list."
   ]
  },
  {
   "cell_type": "code",
   "execution_count": 24,
   "id": "1019ac99",
   "metadata": {},
   "outputs": [
    {
     "name": "stdout",
     "output_type": "stream",
     "text": [
      "Enter elements of list (separated by space):apple ball cat cat bear ball apple\n",
      "\n",
      "Original list:['apple', 'ball', 'cat', 'cat', 'bear', 'ball', 'apple']\n",
      "\n",
      "List without Duplicates:['apple', 'ball', 'cat', 'bear']\n"
     ]
    }
   ],
   "source": [
    "lst = input(\"Enter elements of list (separated by space):\").split(' ')\n",
    "print(f\"\\nOriginal list:{lst}\")\n",
    "emp = [ ]\n",
    "\n",
    "for item in lst:\n",
    "    if item not in emp:\n",
    "        emp.append(item)\n",
    "    else:\n",
    "        pass\n",
    "    \n",
    "print(f\"\\nList without Duplicates:{emp}\")"
   ]
  },
  {
   "cell_type": "markdown",
   "id": "4348c084",
   "metadata": {},
   "source": [
    "# PROGRAM - 20\n",
    "## AIM: WAP TO construct the following pattern using nested for loop:"
   ]
  },
  {
   "cell_type": "raw",
   "id": "ca460ab0",
   "metadata": {},
   "source": [
    "a)\n",
    "\n",
    "*\n",
    "* *\n",
    "* * *\n",
    "* * * *\n",
    "* * *\n",
    "* *\n",
    "*"
   ]
  },
  {
   "cell_type": "code",
   "execution_count": 34,
   "id": "12543a6d",
   "metadata": {},
   "outputs": [
    {
     "name": "stdout",
     "output_type": "stream",
     "text": [
      "* \r\n",
      "* * \r\n",
      "* * * \r\n",
      "* * * * \r\n",
      "* * * \r\n",
      "* * \r\n",
      "* \r\n"
     ]
    }
   ],
   "source": [
    "for i in range(1,5):\n",
    "    for j in range(1,i+1):\n",
    "        print('*', end=' ')\n",
    "    print('\\r')\n",
    "    \n",
    "for i in range(4,1,-1):\n",
    "    for j in range(2,i+1):\n",
    "        print(\"*\", end=' ')\n",
    "    print('\\r')"
   ]
  },
  {
   "cell_type": "raw",
   "id": "6fd14bb7",
   "metadata": {},
   "source": [
    "b)\n",
    "\n",
    "   *\n",
    "  * *\n",
    " * * *"
   ]
  },
  {
   "cell_type": "code",
   "execution_count": 36,
   "id": "72019e40",
   "metadata": {},
   "outputs": [
    {
     "name": "stdout",
     "output_type": "stream",
     "text": [
      "  * \r\n",
      " * * \r\n",
      "* * * \r\n"
     ]
    }
   ],
   "source": [
    "for i in range(1,4):\n",
    "    for j in range(1,4-i):\n",
    "        print(' ', end='')\n",
    "    \n",
    "    for k in range(1,i+1):\n",
    "        print('*', end=' ')\n",
    "    print('\\r')"
   ]
  },
  {
   "cell_type": "raw",
   "id": "a264a795",
   "metadata": {},
   "source": [
    "c)\n",
    "\n",
    "     *\n",
    "    * *\n",
    "   * * *\n",
    "    * *\n",
    "     *"
   ]
  },
  {
   "cell_type": "code",
   "execution_count": 65,
   "id": "626fb306",
   "metadata": {},
   "outputs": [
    {
     "name": "stdout",
     "output_type": "stream",
     "text": [
      "  * \r\n",
      " * * \r\n",
      "* * * \r\n",
      " * * \r\n",
      "  * \r\n"
     ]
    }
   ],
   "source": [
    "for i in range(1,4):\n",
    "    for j in range(1,4-i):\n",
    "        print(' ', end='')\n",
    "    \n",
    "    for k in range(1,i+1):\n",
    "        print('*', end=' ')\n",
    "    print('\\r')\n",
    "    \n",
    "for i in range(2,0,-1):\n",
    "    for j in range(0,3-i):\n",
    "        print(' ', end='')\n",
    "    \n",
    "    for k in range(1,i+1):\n",
    "        print('*', end=' ')\n",
    "    print('\\r')"
   ]
  },
  {
   "cell_type": "markdown",
   "id": "38fb6491",
   "metadata": {},
   "source": [
    "# PROGRAM - 21\n",
    "## AIM: Python program to merge two dictionaries."
   ]
  },
  {
   "cell_type": "code",
   "execution_count": 78,
   "id": "3f420a91",
   "metadata": {},
   "outputs": [
    {
     "name": "stdout",
     "output_type": "stream",
     "text": [
      "Mergerd Dictionary = {'a': 1, 'b': 2, 'c': 3, 'd': 4, 'e': 5, 'f': 6}\n"
     ]
    }
   ],
   "source": [
    "# Approach 1\n",
    "dict1 = {'a':1,'b':2,'c':3}\n",
    "dict2 = {'d':4,'e':5,'f':6}\n",
    "\n",
    "dict3 = {**dict1,**dict2}\n",
    "\n",
    "print(f'Mergerd Dictionary = {dict3}')"
   ]
  },
  {
   "cell_type": "code",
   "execution_count": 79,
   "id": "37130ae1",
   "metadata": {},
   "outputs": [
    {
     "name": "stdout",
     "output_type": "stream",
     "text": [
      "Merged Dictionary = {'a': 1, 'b': 2, 'c': 3, 'd': 4, 'e': 5, 'f': 6}\n"
     ]
    }
   ],
   "source": [
    "# Approach 2\n",
    "dict1 = {'a':1,'b':2,'c':3}\n",
    "dict2 = {'d':4,'e':5,'f':6}\n",
    "\n",
    "for key,value in dict2.items():\n",
    "    dict1[key]=value\n",
    "    \n",
    "print(f'Merged Dictionary = {dict1}')\n",
    "    "
   ]
  },
  {
   "cell_type": "markdown",
   "id": "0a0947cf",
   "metadata": {},
   "source": [
    "# PROGRAM - 22\n",
    "## AIM: WAP in python. Given an empty chessboard and one bishop placed in any square, say (r,c), generate the list of all squares the bishop could move to."
   ]
  },
  {
   "cell_type": "code",
   "execution_count": 83,
   "id": "12ea0a81",
   "metadata": {},
   "outputs": [
    {
     "name": "stdout",
     "output_type": "stream",
     "text": [
      "Enter number of rows:3\n",
      "Enter number of columns:4\n",
      "Possible movement in (row, column):\n",
      "3 3\n",
      "3 5\n",
      "4 4\n",
      "2 4\n"
     ]
    }
   ],
   "source": [
    "r = int(input(\"Enter number of rows:\"))\n",
    "c = int(input(\"Enter number of columns:\"))\n",
    "\n",
    "while (c in range(1,9) and r in range(1,9)):\n",
    "    print(\"Possible movement in (row, column):\")\n",
    "    \n",
    "    if r==1 and c==1:\n",
    "        print(r,c+1)\n",
    "        print(r+1,c)\n",
    "        break\n",
    "        \n",
    "    elif r==1 and c==8:\n",
    "        print(r,c-1)\n",
    "        print(r+1,c)\n",
    "        break\n",
    "        \n",
    "    elif c==1 and r==8:\n",
    "        print(r-1,c)\n",
    "        print(r,c+1)\n",
    "        break\n",
    "        \n",
    "    elif c==8 and r==8:\n",
    "        print(r-1,c)\n",
    "        print(r,c-1)\n",
    "        break\n",
    "        \n",
    "    elif c==1 and r<8:\n",
    "        print(r,c+1)\n",
    "        print(r+1,c)\n",
    "        print(r-1,c)\n",
    "        break\n",
    "        \n",
    "    elif r==1:\n",
    "        print(r+1,c)\n",
    "        print(r,c+1)\n",
    "        print(r,c-1)\n",
    "        \n",
    "    elif c==8:\n",
    "        print(r-1,c)\n",
    "        print(r+1,c)\n",
    "        print(r,c-1)\n",
    "        break\n",
    "    \n",
    "    elif r==8:\n",
    "        print(r-1,c)\n",
    "        print(r,c+1)\n",
    "        print(r,c-1)\n",
    "        break\n",
    "        \n",
    "    else:\n",
    "        print(r,c-1)\n",
    "        print(r,c+1)\n",
    "        print(r+1,c)\n",
    "        print(r-1,c)\n",
    "        break\n",
    "\n",
    "else:\n",
    "    print(\"Invalid Range for row and column!\")"
   ]
  },
  {
   "cell_type": "markdown",
   "id": "b6af3952",
   "metadata": {},
   "source": [
    "# PROGRAM - 23\n",
    "## AIM: WAP that takes a list of words and returns the length of the longest one."
   ]
  },
  {
   "cell_type": "code",
   "execution_count": 88,
   "id": "8e3512ec",
   "metadata": {},
   "outputs": [
    {
     "name": "stdout",
     "output_type": "stream",
     "text": [
      "Enter words (separated for space):My name is Ishan Dhankhar\n",
      "Our List:['My', 'name', 'is', 'Ishan', 'Dhankhar'] \n",
      "Respective lengths:[2, 4, 2, 5, 8]\n",
      "Therefore, the length of the longest one = 8\n"
     ]
    }
   ],
   "source": [
    "input_list = input(\"Enter words (separated for space):\").split()\n",
    "length_list = list(map(lambda a: len(a), input_list))\n",
    "print(f\"Our List:{input_list} \\nRespective lengths:{length_list}\")\n",
    "print(f\"Therefore, the length of the longest one = {max(length_list)}\")"
   ]
  },
  {
   "cell_type": "markdown",
   "id": "659002a5",
   "metadata": {},
   "source": [
    "# PROGRAM - 24\n",
    "## AIM: WAP to find those numbers which are divisible by 7 and multiple of 5 between 100 to 3000."
   ]
  },
  {
   "cell_type": "code",
   "execution_count": 93,
   "id": "17050787",
   "metadata": {},
   "outputs": [
    {
     "name": "stdout",
     "output_type": "stream",
     "text": [
      "Numbers divisible by 7 and multiple of 5 between 100-3000 are :105, 140, 175, 210, 245, 280, 315, 350, 385, 420, 455, 490, 525, 560, 595, 630, 665, 700, 735, 770, 805, 840, 875, 910, 945, 980, 1015, 1050, 1085, 1120, 1155, 1190, 1225, 1260, 1295, 1330, 1365, 1400, 1435, 1470, 1505, 1540, 1575, 1610, 1645, 1680, 1715, 1750, 1785, 1820, 1855, 1890, 1925, 1960, 1995, 2030, 2065, 2100, 2135, 2170, 2205, 2240, 2275, 2310, 2345, 2380, 2415, 2450, 2485, 2520, 2555, 2590, 2625, 2660, 2695, 2730, 2765, 2800, 2835, 2870, 2905, 2940, 2975.\n"
     ]
    }
   ],
   "source": [
    "lst = [str(x) for x in range(100,3001) if x%7==0 and x%5==0]\n",
    "output = ', '.join(lst)\n",
    "print(f\"Numbers divisible by 7 and multiple of 5 between 100-3000 are :{output}.\")"
   ]
  },
  {
   "cell_type": "markdown",
   "id": "86d52c28",
   "metadata": {},
   "source": [
    "# PROGRAM - 25\n",
    "## AIM: Python program to find the second lowest grade of any student(s) from the given names and grades of each student using lists and lambda."
   ]
  },
  {
   "cell_type": "code",
   "execution_count": 6,
   "id": "3753ffd2",
   "metadata": {},
   "outputs": [
    {
     "name": "stdout",
     "output_type": "stream",
     "text": [
      "Enter number of students:5\n",
      "Enter name:Ashish\n",
      "Enter grade:100\n",
      "Enter name:Ishan\n",
      "Enter grade:79\n",
      "Enter name:Churchill\n",
      "Enter grade:79\n",
      "Enter name:Lipi\n",
      "Enter grade:88\n",
      "Enter name:Mahima\n",
      "Enter grade:75\n",
      "\n",
      "Student names with second lowest score:\n",
      "Churchill\n",
      "Ishan\n"
     ]
    }
   ],
   "source": [
    "if __name__=='__main__':\n",
    "    students_marks = []\n",
    "\n",
    "    for _ in range(int(input(\"Enter number of students:\"))):\n",
    "        name = input(\"Enter name:\")\n",
    "        score = float(input(\"Enter grade:\"))\n",
    "        students_marks.append([name, score])\n",
    "\n",
    "    second_highest = sorted([score for name, score in students_marks])[1]\n",
    "    result = '\\n'.join(sorted([name for name, score in students_marks if score == second_highest]))\n",
    "    print(f\"\\nStudent names with second lowest score:\\n{result}\")"
   ]
  },
  {
   "cell_type": "markdown",
   "id": "317ac202",
   "metadata": {},
   "source": [
    "# PROGRAM - 26\n",
    "## AIM: Python program to convert a roman numeral to an integer"
   ]
  },
  {
   "cell_type": "code",
   "execution_count": 2,
   "id": "97c65b21",
   "metadata": {},
   "outputs": [
    {
     "name": "stdout",
     "output_type": "stream",
     "text": [
      "Enter a roman number:mcmiv\n",
      "2106\n"
     ]
    }
   ],
   "source": [
    "def roman_to_int(rom):\n",
    "    \"\"\"\n",
    "    It is a function which converts Roman value to an integer value.\n",
    "    \"\"\"\n",
    "    \n",
    "    value = {'M': 1000,'D': 500,'C': 100,'L': 50,'X': 10,'V': 5,'I': 1}\n",
    "    \n",
    "    p = 0\n",
    "    ans = 0\n",
    "    \n",
    "    for i in rom:\n",
    "        if i.isalpha() is True:\n",
    "            upper = i.upper()\n",
    "            if value[upper]>=p:\n",
    "                ans+=value[upper]\n",
    "            else:\n",
    "                ans-=value[upper]\n",
    "            \n",
    "        else:\n",
    "            print(\"Incorrect Input!\")\n",
    "            break\n",
    "    print(ans)\n",
    "    \n",
    "inp = input(\"Enter a roman number:\")\n",
    "roman_to_int(inp)"
   ]
  },
  {
   "cell_type": "markdown",
   "id": "089122dd",
   "metadata": {},
   "source": [
    "# PROGRAM - 27\n",
    "## AIM: Python program to calculate student Grades with Multiple Inheritance"
   ]
  },
  {
   "cell_type": "code",
   "execution_count": 8,
   "id": "cc858641",
   "metadata": {},
   "outputs": [
    {
     "name": "stdout",
     "output_type": "stream",
     "text": [
      "Enter name:Ishan\n",
      "Enter age:21\n",
      "Enter roll number:50\n",
      "Enter the marks of respective subject:\n",
      "English:98\n",
      "Hindi:99\n",
      "Maths:100\n",
      "Science:97\n",
      "Economics:98\n"
     ]
    }
   ],
   "source": [
    "class information:\n",
    "    def __init__(self):\n",
    "        self.name = input(\"Enter name:\")\n",
    "        self.age = input(\"Enter age:\")\n",
    "        self.roll_number = input(\"Enter roll number:\")\n",
    "        \n",
    "    def display(self):\n",
    "        print(f\"Name:{self.name}\")\n",
    "        print(f\"Age:{self.age}\")        \n",
    "        print(f\"Roll Number:{self.roll_number}\")        \n",
    "        \n",
    "class marks:\n",
    "    def __init__(self):\n",
    "        print(\"Enter the marks of respective subject:\")\n",
    "        self.english = int(input(\"English:\"))\n",
    "        self.hindi = int(input(\"Hindi:\"))        \n",
    "        self.maths = int(input(\"Maths:\"))        \n",
    "        self.science = int(input(\"Science:\"))        \n",
    "        self.economics = int(input(\"Economics:\"))   \n",
    "        \n",
    "    def display(self):\n",
    "        print(f\"Total marks = {self.english + self.hindi + self.maths + self.science + self.economics}\")\n",
    "        \n",
    "class student(information, marks):\n",
    "    def __init__(self):\n",
    "        information.__init__(self)\n",
    "        marks.__init__(self)  \n",
    "    \n",
    "    def result(self):\n",
    "        information.display(self)\n",
    "        marks.display(self)\n",
    "        \n",
    "s = student()"
   ]
  },
  {
   "cell_type": "code",
   "execution_count": 9,
   "id": "1937e62e",
   "metadata": {
    "scrolled": true
   },
   "outputs": [
    {
     "name": "stdout",
     "output_type": "stream",
     "text": [
      "Name:Ishan\n",
      "Age:21\n",
      "Roll Number:50\n",
      "Total marks = 492\n"
     ]
    }
   ],
   "source": [
    "s.result()"
   ]
  },
  {
   "cell_type": "markdown",
   "id": "8d698ef2",
   "metadata": {},
   "source": [
    "# PROGRAM - 28\n",
    "## AIM: Python program to create an Address Book with Multiple Inheritance"
   ]
  },
  {
   "cell_type": "code",
   "execution_count": 7,
   "id": "6d47f5d9",
   "metadata": {},
   "outputs": [
    {
     "name": "stdout",
     "output_type": "stream",
     "text": [
      "Enter name:Ishan Dhankhar\n",
      "Enter age:21\n",
      "Enter Phone Number:123456789\n",
      "Enter Address:Gurugram sector 51\n"
     ]
    }
   ],
   "source": [
    "class publicInfo:\n",
    "    def __init__(self):\n",
    "        self.name = input(\"Enter name:\")\n",
    "        self.age = input(\"Enter age:\")\n",
    "    \n",
    "    def display(self):\n",
    "        print(f\"Name:{self.name}\")\n",
    "        print(f\"Age:{self.age}\")\n",
    "        \n",
    "        \n",
    "class privateInfo:\n",
    "    def __init__(self):\n",
    "        self.phone_no = input(\"Enter Phone Number:\")\n",
    "        self.address = input(\"Enter Address:\")\n",
    "        \n",
    "    def display(self):\n",
    "        print(f\"Phone Number:{self.phone_no}\")\n",
    "        print(f\"Address:{self.address}\")\n",
    "        \n",
    "        \n",
    "class personInfo(publicInfo, privateInfo):\n",
    "    def __init__(self):\n",
    "        publicInfo.__init__(self)\n",
    "        privateInfo.__init__(self)\n",
    "        \n",
    "    def finaloutput(self):\n",
    "        publicInfo.display(self)\n",
    "        privateInfo.display(self)\n",
    "        \n",
    "p1 = personInfo()\n"
   ]
  },
  {
   "cell_type": "code",
   "execution_count": 8,
   "id": "5d136c2b",
   "metadata": {},
   "outputs": [
    {
     "name": "stdout",
     "output_type": "stream",
     "text": [
      "Name:Ishan Dhankhar\n",
      "Age:21\n",
      "Phone Number:123456789\n",
      "Address:Gurugram sector 51\n"
     ]
    }
   ],
   "source": [
    "p1.finaloutput()"
   ]
  },
  {
   "cell_type": "markdown",
   "id": "beb7a2c3",
   "metadata": {},
   "source": [
    "# PROGRAM - 29\n",
    "## AIM: Python program to create an application to implement a Calculator"
   ]
  },
  {
   "cell_type": "code",
   "execution_count": 1,
   "id": "a1e90935",
   "metadata": {},
   "outputs": [
    {
     "name": "stdout",
     "output_type": "stream",
     "text": [
      "**************CALCULATOR*************\n",
      "\n",
      "CHOOSE OPERATION:\n",
      "\n",
      "Press 1 for ADDITION\n",
      "Press 2 for SUBTRACTION\n",
      "Press 3 for MULTIPLICATION\n",
      "Press 4 for DIVISION\n",
      "\n",
      "Enter Operation code (1/2/3/4):3\n",
      "Enter number 1:2\n",
      "Enter number 2:3\n",
      "Multiplication of 2 and 3 = 6\n"
     ]
    }
   ],
   "source": [
    "print(\"**************CALCULATOR*************\")\n",
    "print(\"\\nCHOOSE OPERATION:\")\n",
    "print(\"\\nPress 1 for ADDITION\")\n",
    "print(\"Press 2 for SUBTRACTION\")\n",
    "print(\"Press 3 for MULTIPLICATION\")\n",
    "print(\"Press 4 for DIVISION\\n\")\n",
    "\n",
    "try:\n",
    "    op = input(\"Enter Operation code (1/2/3/4):\")\n",
    "    \n",
    "    num1 = int(input(\"Enter number 1:\"))\n",
    "    num2 = int(input(\"Enter number 2:\"))\n",
    "    \n",
    "    if op=='1':\n",
    "        result = num1+num2\n",
    "        print(f'Addition of {num1} and {num2} = {result}')\n",
    "        \n",
    "    elif op=='2':\n",
    "        result = num1-num2\n",
    "        print(f'Subtraction of {num1} and {num2} = {result}')\n",
    "    \n",
    "    elif op=='3':\n",
    "        result = num1*num2\n",
    "        print(f'Multiplication of {num1} and {num2} = {result}')\n",
    "    \n",
    "    elif op=='4':\n",
    "        result = num1/num2\n",
    "        print(f'Division of {num1} and {num2} = {result}')\n",
    "        \n",
    "    else:\n",
    "        print(\"Wrong Operation code choosen. It doesn't exists!\")\n",
    "        \n",
    "except Exception as e:\n",
    "    print(str(e))"
   ]
  },
  {
   "cell_type": "markdown",
   "id": "19a81475",
   "metadata": {},
   "source": [
    "# PROGRAM - 30\n",
    "## AIM: WAP to print 3* 6* 3 – 3Darray."
   ]
  },
  {
   "cell_type": "code",
   "execution_count": 4,
   "id": "1117f546",
   "metadata": {},
   "outputs": [
    {
     "data": {
      "text/plain": [
       "[[['*', '*', '*'],\n",
       "  ['*', '*', '*'],\n",
       "  ['*', '*', '*'],\n",
       "  ['*', '*', '*'],\n",
       "  ['*', '*', '*'],\n",
       "  ['*', '*', '*']],\n",
       " [['*', '*', '*'],\n",
       "  ['*', '*', '*'],\n",
       "  ['*', '*', '*'],\n",
       "  ['*', '*', '*'],\n",
       "  ['*', '*', '*'],\n",
       "  ['*', '*', '*']],\n",
       " [['*', '*', '*'],\n",
       "  ['*', '*', '*'],\n",
       "  ['*', '*', '*'],\n",
       "  ['*', '*', '*'],\n",
       "  ['*', '*', '*'],\n",
       "  ['*', '*', '*']]]"
      ]
     },
     "execution_count": 4,
     "metadata": {},
     "output_type": "execute_result"
    }
   ],
   "source": [
    "array = [[['*' for col in range(3)] for col in range(6)] for row in range(3)]\n",
    "array"
   ]
  },
  {
   "cell_type": "code",
   "execution_count": null,
   "id": "b4fb8438",
   "metadata": {},
   "outputs": [],
   "source": []
  }
 ],
 "metadata": {
  "kernelspec": {
   "display_name": "Python 3",
   "language": "python",
   "name": "python3"
  },
  "language_info": {
   "codemirror_mode": {
    "name": "ipython",
    "version": 3
   },
   "file_extension": ".py",
   "mimetype": "text/x-python",
   "name": "python",
   "nbconvert_exporter": "python",
   "pygments_lexer": "ipython3",
   "version": "3.8.8"
  }
 },
 "nbformat": 4,
 "nbformat_minor": 5
}
